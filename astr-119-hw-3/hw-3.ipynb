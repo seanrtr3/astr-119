{
 "cells": [
  {
   "cell_type": "code",
   "execution_count": null,
   "id": "ae4427ed",
   "metadata": {},
   "outputs": [],
   "source": [
    "%matplotlib inline\n",
    "import numpy as np\n",
    "import matplotlib.pyplot as plt"
   ]
  },
  {
   "cell_type": "code",
   "execution_count": null,
   "id": "e728effb",
   "metadata": {},
   "outputs": [],
   "source": [
    "#an array x running x = [0, 2 * pi] inclusive with 1000 values\n",
    "x = np.arange(0, 2*np.pi, 2*np.pi/1000)\n",
    "\n",
    "#can also use\n",
    "#x = np.linspace(0, 2*np.pi, 1000)\n",
    "\n",
    "#check to see if x has 1000 values\n",
    "len(x)"
   ]
  },
  {
   "cell_type": "code",
   "execution_count": null,
   "id": "0cc004e2",
   "metadata": {},
   "outputs": [],
   "source": [
    "#plot of y(x) = 5.5 cos(2 * x) + 5.5\n",
    "y = 5.5 * np.cos(2*x) + 5.5\n",
    "\n",
    "#plot of  y(x) = 0.02 * exp( x )\n",
    "z = 0.02 * np.exp(x)\n",
    "\n",
    "#plot of y(x) = 0.25 * x^2  + 0.1 sin (10 * x)\n",
    "w = 0.25 * x**2 + 0.1 * np.sin(10*x)\n",
    "\n",
    "#putting the graphs in one plot\n",
    "plt.plot(x, y)\n",
    "plt.plot(x, z)\n",
    "plt.plot(x, w)\n",
    "\n",
    "#making the x and y axis labels\n",
    "plt.ylabel(\"Measures of Awesomeness\")\n",
    "plt.xlabel(\"Time in ASTR-119\")\n",
    "\n",
    "#applying limits to the x and y range as given by the homework\n",
    "plt.xlim([0, 2 * np.pi])\n",
    "plt.ylim([-1, 10])"
   ]
  }
 ],
 "metadata": {
  "kernelspec": {
   "display_name": "Python 3 (ipykernel)",
   "language": "python",
   "name": "python3"
  },
  "language_info": {
   "codemirror_mode": {
    "name": "ipython",
    "version": 3
   },
   "file_extension": ".py",
   "mimetype": "text/x-python",
   "name": "python",
   "nbconvert_exporter": "python",
   "pygments_lexer": "ipython3",
   "version": "3.9.7"
  }
 },
 "nbformat": 4,
 "nbformat_minor": 5
}
