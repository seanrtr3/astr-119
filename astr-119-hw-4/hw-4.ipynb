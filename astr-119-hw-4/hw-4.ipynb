{
 "cells": [
  {
   "cell_type": "markdown",
   "id": "73fca097",
   "metadata": {},
   "source": [
    "# HW 4 Finding the Root Using Bisection Root Finding"
   ]
  },
  {
   "cell_type": "markdown",
   "id": "79cd31c1",
   "metadata": {},
   "source": [
    "## As always"
   ]
  },
  {
   "cell_type": "code",
   "execution_count": null,
   "id": "a98dbccb",
   "metadata": {},
   "outputs": [],
   "source": [
    "%matplotlib inline\n",
    "import numpy as np\n",
    "import matplotlib.pyplot as plt"
   ]
  },
  {
   "cell_type": "markdown",
   "id": "0a3e1f81",
   "metadata": {},
   "source": [
    "## Creating the function to find the root from"
   ]
  },
  {
   "cell_type": "code",
   "execution_count": null,
   "id": "0b707510",
   "metadata": {},
   "outputs": [],
   "source": [
    "def function(x):\n",
    "    a = 1.01\n",
    "    b = -3.04\n",
    "    c = 2.07\n",
    "    return a*x**2 + b*x + c"
   ]
  },
  {
   "cell_type": "markdown",
   "id": "20295cf0",
   "metadata": {},
   "source": [
    "## Checking to see if initial guesses are valid"
   ]
  },
  {
   "cell_type": "code",
   "execution_count": null,
   "id": "3b1ff804",
   "metadata": {},
   "outputs": [],
   "source": [
    "def check_initial_values(f, x_min, x_max, tol):\n",
    "    \n",
    "    y_min = f(x_min)\n",
    "    y_max = f(x_max)\n",
    "    \n",
    "    #checking if there is a zero crossing\n",
    "    if y_min * y_max > 0:\n",
    "        print(\"No zero crossing found from initial guesses in the rage (\" + str(x_min) + \", \" + str(x_max) +\")\")\n",
    "        s = \"f(%f) = %f, and f(%f) = %f.\" % (x_min, y_min, x_max, y_max)\n",
    "        print(\"The values are \" + s)\n",
    "        return 0\n",
    "    \n",
    "    \n",
    "    #checking for lucky guesses \n",
    "    \n",
    "    #if x_min is a root, return 1\n",
    "    if np.fabs(y_min) < tol:\n",
    "        return 1\n",
    "    \n",
    "    #if x_max is a root, return 2\n",
    "    if np.fabs(y_max) < tol:\n",
    "        return 2\n",
    "    \n",
    "    #from here, the roots are valid and continue on to bisection root finding\n",
    "    return 3"
   ]
  },
  {
   "cell_type": "markdown",
   "id": "0ded9aab",
   "metadata": {},
   "source": [
    "## The function to actually perform the bisection root finding"
   ]
  },
  {
   "cell_type": "code",
   "execution_count": null,
   "id": "1c55203c",
   "metadata": {},
   "outputs": [],
   "source": [
    "def bisection_root_finding(f, x_min_start, x_max_start, tol):\n",
    "    \n",
    "    x_min = x_min_start\n",
    "    x_max = x_max_start\n",
    "    x_mid = 0.\n",
    "    \n",
    "    y_min = f(x_min_start)\n",
    "    y_max = f(x_max_start)\n",
    "    y_mid = 0.\n",
    "    \n",
    "    imax = 10000\n",
    "    i = 0\n",
    "    \n",
    "    flag = check_initial_values(f, x_min, x_max, tol)\n",
    "    if flag == 0:\n",
    "        print(\"Error in bisection_root_finding\")\n",
    "        raise ValueError(\"Initial values invalid :\", x_min, x_max)\n",
    "    elif flag == 1:\n",
    "        return x_min\n",
    "    elif flag == 2:\n",
    "        return x_max\n",
    "    \n",
    "    #from here, we actually need to conduct the search\n",
    "    \n",
    "    flag = 1\n",
    "    \n",
    "    while(flag):\n",
    "        x_mid = 0.5 * (x_min + x_max)\n",
    "        y_mid = f(x_mid)\n",
    "        \n",
    "        #check to see if new x_mid is a root\n",
    "        if np.fabs(y_mid) < tol:\n",
    "            flag = 0\n",
    "        else:\n",
    "            #replaces x_min or x_max to x_mid depending on whether x_mid is on the same side of either x_min or x_max\n",
    "            if y_min * y_mid > 0:\n",
    "                x_min = x_mid\n",
    "            else:\n",
    "                x_max = x_mid\n",
    "    \n",
    "        #Print out the iteration\n",
    "\n",
    "        \n",
    "        #count the iteration\n",
    "        i += 1\n",
    "        \n",
    "        #if i exceeds imax\n",
    "        if i > imax:\n",
    "            print(\"Exceeded max number of iterations = \", i)\n",
    "            s = \"Min bracket f(%f) = %f\" % (x_min, y_min)\n",
    "            print(s)\n",
    "            s = \"Max bracket f(%f) = %f\" % (x_max, y_max)\n",
    "            print(s)\n",
    "            s = \"Mid bracket f(%f) = %f\" % (x_mid, y_mid)\n",
    "            print(s)\n",
    "            raise StopIteration(\"Stopping iterations after \", i)\n",
    "    \n",
    "    #end of while loop\n",
    "    \n",
    "    print('There was a total of ' + str(i) + ' iterations')\n",
    "    return x_mid\n"
   ]
  },
  {
   "cell_type": "markdown",
   "id": "f97dfdc6",
   "metadata": {},
   "source": [
    "## Entering guesses for the search"
   ]
  },
  {
   "cell_type": "markdown",
   "id": "cab658ea",
   "metadata": {},
   "source": [
    "### First root"
   ]
  },
  {
   "cell_type": "code",
   "execution_count": null,
   "id": "133271b3",
   "metadata": {},
   "outputs": [],
   "source": [
    "x_min = 1.0\n",
    "x_max = 1.5\n",
    "tolerance = 1.0e-6\n",
    "\n",
    "x_root = bisection_root_finding(function, x_min, x_max, tolerance)\n",
    "y_root = function(x_root)\n",
    "\n",
    "#prints the y values of the first guess\n",
    "print(x_min, function(x_min))\n",
    "print(x_max, function(x_max))\n",
    "\n",
    "s = \"Root found with y(%f) = %f\" % (x_root, y_root)\n",
    "print(s)"
   ]
  },
  {
   "cell_type": "markdown",
   "id": "241b3a53",
   "metadata": {},
   "source": [
    "### Second root"
   ]
  },
  {
   "cell_type": "code",
   "execution_count": null,
   "id": "5c7ce613",
   "metadata": {},
   "outputs": [],
   "source": [
    "x_min_2 = 1.5\n",
    "x_max_2 = 3\n",
    "\n",
    "x_root_2 = bisection_root_finding(function, x_min_2, x_max_2, tolerance)\n",
    "y_root_2 = function(x_root_2)\n",
    "\n",
    "#prints the y values of the first guess\n",
    "print(x_min, function(x_min))\n",
    "print(x_max, function(x_max))\n",
    "\n",
    "s = \"Root found with y(%f) = %f\" % (x_root_2, y_root_2)\n",
    "print(s)"
   ]
  },
  {
   "cell_type": "markdown",
   "id": "68576f96",
   "metadata": {},
   "source": [
    "## Graphing the function"
   ]
  },
  {
   "cell_type": "code",
   "execution_count": null,
   "id": "3dee639c",
   "metadata": {},
   "outputs": [],
   "source": [
    "#the function\n",
    "x = np.linspace(0, 3, 1000)\n",
    "y = function(x)\n",
    "\n",
    "#the horizontal line at y = 0\n",
    "m = 0\n",
    "b = 0\n",
    "y_axis = m*x + b\n"
   ]
  },
  {
   "cell_type": "code",
   "execution_count": null,
   "id": "ddda8309",
   "metadata": {},
   "outputs": [],
   "source": [
    "plt.figure(figsize = (7, 7))\n",
    "plt.plot(x, y)\n",
    "plt.plot(x, y_axis, color = 'black')\n",
    "plt.plot(x_root, y_root, 'go', label = 'roots')\n",
    "plt.plot(x_root_2, y_root_2, 'go')\n",
    "plt.plot(x_min, function(x_min), 'ro', label ='initial bracket values')\n",
    "plt.plot(x_max, function(x_max), 'ro')\n",
    "plt.plot(x_max_2, function(x_max_2), 'ro')\n",
    "plt.xlim([0, 3])\n",
    "plt.ylim([-0.5, 2.1])\n",
    "plt.legend(loc = 9)"
   ]
  },
  {
   "cell_type": "code",
   "execution_count": null,
   "id": "738d42e4",
   "metadata": {},
   "outputs": [],
   "source": []
  }
 ],
 "metadata": {
  "kernelspec": {
   "display_name": "Python 3 (ipykernel)",
   "language": "python",
   "name": "python3"
  },
  "language_info": {
   "codemirror_mode": {
    "name": "ipython",
    "version": 3
   },
   "file_extension": ".py",
   "mimetype": "text/x-python",
   "name": "python",
   "nbconvert_exporter": "python",
   "pygments_lexer": "ipython3",
   "version": "3.9.7"
  }
 },
 "nbformat": 4,
 "nbformat_minor": 5
}
