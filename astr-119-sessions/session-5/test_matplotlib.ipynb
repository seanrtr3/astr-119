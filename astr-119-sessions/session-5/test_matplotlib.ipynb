{
 "cells": [
  {
   "cell_type": "code",
   "execution_count": null,
   "id": "92c6db75",
   "metadata": {},
   "outputs": [],
   "source": [
    "%matplotlib inline \n",
    "#allows showing and running plots without external rendering software\n",
    "\n",
    "import numpy as np\n",
    "import matplotlib.pyplot as plt"
   ]
  },
  {
   "cell_type": "code",
   "execution_count": null,
   "id": "e66ada9a",
   "metadata": {},
   "outputs": [],
   "source": [
    "x = np.arange(0, 5, 0.1) #x = [0, 5] in 0.1 increments\n",
    "y = np.sin(x) #y = sin(x) plot\n",
    "plt.plot(x, y) #makes the plot\n",
    "plt.xlabel('x') #labels x axis\n",
    "plt.ylabel('sin(x)') #labels y axis\n",
    "plt.show() #shows the plot"
   ]
  },
  {
   "cell_type": "code",
   "execution_count": null,
   "id": "c4567e65",
   "metadata": {},
   "outputs": [],
   "source": [
    "#to save the plot\n",
    "x = np.arange(0, 5, 0.1) #x = [0, 5] in 0.1 increments\n",
    "y = np.sin(x) #y = sin(x) plot\n",
    "plt.plot(x, y) #makes the plot\n",
    "plt.xlabel('x') #labels x axis\n",
    "plt.ylabel('sin(x)') #labels y axis\n",
    "\n",
    "#saves in desktop -> me\n",
    "plt.savefig('sinx.png', bbox_inches = 'tight', dpi = 600) #first argument gives name, and .png saves as a png file\n",
    "                                                          #bbox_inches makes the boundary tight\n",
    "                                                          #dpi - dots per inch gives resolution (600 is a lot)\n",
    "                                                          #png files have transparent background, pdf are not transparent\n"
   ]
  },
  {
   "cell_type": "code",
   "execution_count": null,
   "id": "f8dcff7a",
   "metadata": {},
   "outputs": [],
   "source": []
  }
 ],
 "metadata": {
  "kernelspec": {
   "display_name": "Python 3 (ipykernel)",
   "language": "python",
   "name": "python3"
  },
  "language_info": {
   "codemirror_mode": {
    "name": "ipython",
    "version": 3
   },
   "file_extension": ".py",
   "mimetype": "text/x-python",
   "name": "python",
   "nbconvert_exporter": "python",
   "pygments_lexer": "ipython3",
   "version": "3.9.7"
  }
 },
 "nbformat": 4,
 "nbformat_minor": 5
}
